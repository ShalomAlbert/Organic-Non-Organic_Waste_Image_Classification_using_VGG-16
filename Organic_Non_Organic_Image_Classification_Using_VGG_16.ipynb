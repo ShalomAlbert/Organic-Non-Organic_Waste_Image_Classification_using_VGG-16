{
  "cells": [
    {
      "cell_type": "markdown",
      "metadata": {
        "id": "view-in-github",
        "colab_type": "text"
      },
      "source": [
        "<a href=\"https://colab.research.google.com/github/ShalomAlbert/Organic_or_Non-Organic_Waste_Image_Classification_using_VGG-16/blob/main/Organic_Non_Organic_Image_Classification_Using_VGG_16.ipynb\" target=\"_parent\"><img src=\"https://colab.research.google.com/assets/colab-badge.svg\" alt=\"Open In Colab\"/></a>"
      ]
    },
    {
      "cell_type": "code",
      "source": [
        "#!pip install tensorflow"
      ],
      "metadata": {
        "id": "h5s5URKNCKzR"
      },
      "execution_count": null,
      "outputs": []
    },
    {
      "cell_type": "markdown",
      "source": [
        "# Dataset Link: https://drive.google.com/drive/folders/1CTvT_gnTvwlcKwJ8yz4jUOs0JYTKrplA?usp=sharing"
      ],
      "metadata": {
        "id": "PGwfnNfzFjfF"
      }
    },
    {
      "cell_type": "code",
      "execution_count": null,
      "metadata": {
        "colab": {
          "base_uri": "https://localhost:8080/"
        },
        "id": "qZYoaqIq4Fqs",
        "outputId": "68fcf194-da1f-442b-e348-8a1e6aef9a47"
      },
      "outputs": [
        {
          "output_type": "stream",
          "name": "stdout",
          "text": [
            "Mounted at /content/drive\n"
          ]
        }
      ],
      "source": [
        "from google.colab import drive\n",
        "drive.mount('/content/drive')"
      ]
    },
    {
      "cell_type": "code",
      "execution_count": null,
      "metadata": {
        "id": "y1uIVGqD4p27"
      },
      "outputs": [],
      "source": [
        "import tensorflow as tf\n",
        "import numpy as np\n",
        "import matplotlib.pyplot as plt"
      ]
    },
    {
      "cell_type": "markdown",
      "source": [
        "# Here we are fetching a file called **Organic or Non-Organic** frome the Directory which has **9 sub-folders(classes)** in which **each classes has thousands of image which determines the classification**"
      ],
      "metadata": {
        "id": "nS-w4A6NvfcG"
      }
    },
    {
      "cell_type": "code",
      "execution_count": null,
      "metadata": {
        "colab": {
          "base_uri": "https://localhost:8080/"
        },
        "id": "73cocERU6Jpt",
        "outputId": "4ac46cb8-62b3-4442-b5d8-23afc5b03b9a"
      },
      "outputs": [
        {
          "name": "stdout",
          "output_type": "stream",
          "text": [
            "Found 8369 images belonging to 9 classes.\n"
          ]
        }
      ],
      "source": [
        "# prepare the data and generate the data\n",
        "\n",
        "from tensorflow.keras.preprocessing.image import ImageDataGenerator\n",
        "\n",
        "gen_train = ImageDataGenerator(rescale = 1/255, shear_range = 0.2, zoom_range = 0.2,\n",
        "                               brightness_range = (0.1, 0.5), horizontal_flip=True)\n",
        "\n",
        "train_data = gen_train.flow_from_directory(\"/content/drive/MyDrive/Colab Notebooks/Image_classification/recycling waste\",\n",
        "                                           target_size = (224, 224), batch_size = 32, class_mode=\"categorical\")\n"
      ]
    },
    {
      "cell_type": "markdown",
      "source": [
        "# The 9 classes I used are\n",
        "**+Non-Organic Waste** -\"batteries\", \"clothes\", \"e-waste\", \"glass\", \"light blubs\", \"metal\", \"paper\" \"plastic\"\n",
        "\\\n",
        "**+Organic Waste**-\"organic\""
      ],
      "metadata": {
        "id": "GzpNu8_8xwYo"
      }
    },
    {
      "cell_type": "code",
      "execution_count": null,
      "metadata": {
        "id": "v7E5kRJl8BwH"
      },
      "outputs": [],
      "source": [
        "# creating a model\n",
        "\n",
        "from tensorflow.keras.applications.vgg16 import VGG16\n",
        "\n",
        "# include_top = False means i want to add my own input, flatten and output layer\n",
        "\n",
        "vgg16 = VGG16(input_shape = (224, 224, 3), weights = \"imagenet\", include_top = False)"
      ]
    },
    {
      "cell_type": "code",
      "execution_count": null,
      "metadata": {
        "id": "U5v7MH4-90yI"
      },
      "outputs": [],
      "source": [
        "# vgg16 weights are already trained so i don't want to train those weights again\n",
        "\n",
        "for layer in vgg16.layers:\n",
        "  layer.trainable = False"
      ]
    },
    {
      "cell_type": "code",
      "execution_count": null,
      "metadata": {
        "id": "v998AH3K-Dga"
      },
      "outputs": [],
      "source": [
        "# Adding VGG16 with our own flatten layer\n",
        "\n",
        "from tensorflow.keras import layers\n",
        "\n",
        "x = layers.Flatten()(vgg16.output)"
      ]
    },
    {
      "cell_type": "code",
      "execution_count": null,
      "metadata": {
        "colab": {
          "base_uri": "https://localhost:8080/"
        },
        "id": "VlXSZUNA-Rrb",
        "outputId": "a742700d-8123-49fb-aafe-e2bd1c52ae8e"
      },
      "outputs": [
        {
          "name": "stdout",
          "output_type": "stream",
          "text": [
            "Model: \"model\"\n",
            "_________________________________________________________________\n",
            "Layer (type)                 Output Shape              Param #   \n",
            "=================================================================\n",
            "input_1 (InputLayer)         [(None, 224, 224, 3)]     0         \n",
            "_________________________________________________________________\n",
            "block1_conv1 (Conv2D)        (None, 224, 224, 64)      1792      \n",
            "_________________________________________________________________\n",
            "block1_conv2 (Conv2D)        (None, 224, 224, 64)      36928     \n",
            "_________________________________________________________________\n",
            "block1_pool (MaxPooling2D)   (None, 112, 112, 64)      0         \n",
            "_________________________________________________________________\n",
            "block2_conv1 (Conv2D)        (None, 112, 112, 128)     73856     \n",
            "_________________________________________________________________\n",
            "block2_conv2 (Conv2D)        (None, 112, 112, 128)     147584    \n",
            "_________________________________________________________________\n",
            "block2_pool (MaxPooling2D)   (None, 56, 56, 128)       0         \n",
            "_________________________________________________________________\n",
            "block3_conv1 (Conv2D)        (None, 56, 56, 256)       295168    \n",
            "_________________________________________________________________\n",
            "block3_conv2 (Conv2D)        (None, 56, 56, 256)       590080    \n",
            "_________________________________________________________________\n",
            "block3_conv3 (Conv2D)        (None, 56, 56, 256)       590080    \n",
            "_________________________________________________________________\n",
            "block3_pool (MaxPooling2D)   (None, 28, 28, 256)       0         \n",
            "_________________________________________________________________\n",
            "block4_conv1 (Conv2D)        (None, 28, 28, 512)       1180160   \n",
            "_________________________________________________________________\n",
            "block4_conv2 (Conv2D)        (None, 28, 28, 512)       2359808   \n",
            "_________________________________________________________________\n",
            "block4_conv3 (Conv2D)        (None, 28, 28, 512)       2359808   \n",
            "_________________________________________________________________\n",
            "block4_pool (MaxPooling2D)   (None, 14, 14, 512)       0         \n",
            "_________________________________________________________________\n",
            "block5_conv1 (Conv2D)        (None, 14, 14, 512)       2359808   \n",
            "_________________________________________________________________\n",
            "block5_conv2 (Conv2D)        (None, 14, 14, 512)       2359808   \n",
            "_________________________________________________________________\n",
            "block5_conv3 (Conv2D)        (None, 14, 14, 512)       2359808   \n",
            "_________________________________________________________________\n",
            "block5_pool (MaxPooling2D)   (None, 7, 7, 512)         0         \n",
            "_________________________________________________________________\n",
            "flatten (Flatten)            (None, 25088)             0         \n",
            "_________________________________________________________________\n",
            "dense (Dense)                (None, 9)                 225801    \n",
            "=================================================================\n",
            "Total params: 14,940,489\n",
            "Trainable params: 225,801\n",
            "Non-trainable params: 14,714,688\n",
            "_________________________________________________________________\n"
          ]
        }
      ],
      "source": [
        "# adding output layers\n",
        "\n",
        "prediction = layers.Dense(units = 9, activation=\"softmax\")(x)\n",
        "\n",
        "# model created\n",
        "\n",
        "model = tf.keras.models.Model(inputs = vgg16.input, outputs=prediction)\n",
        "model.summary()"
      ]
    },
    {
      "cell_type": "code",
      "execution_count": null,
      "metadata": {
        "colab": {
          "base_uri": "https://localhost:8080/"
        },
        "id": "xiJfS-Wf-l2r",
        "outputId": "9f72f0c7-4883-4edd-f2b4-5faaee004246"
      },
      "outputs": [
        {
          "name": "stderr",
          "output_type": "stream",
          "text": [
            "/usr/local/lib/python3.7/dist-packages/tensorflow/python/keras/engine/training.py:1844: UserWarning: `Model.fit_generator` is deprecated and will be removed in a future version. Please use `Model.fit`, which supports generators.\n",
            "  warnings.warn('`Model.fit_generator` is deprecated and '\n"
          ]
        },
        {
          "name": "stdout",
          "output_type": "stream",
          "text": [
            "Epoch 1/28\n",
            "262/262 [==============================] - 170s 614ms/step - loss: 2.0931 - accuracy: 0.2906\n",
            "Epoch 2/28\n",
            "262/262 [==============================] - 159s 608ms/step - loss: 1.5903 - accuracy: 0.4493\n",
            "Epoch 3/28\n",
            "262/262 [==============================] - 159s 608ms/step - loss: 1.4737 - accuracy: 0.4902\n",
            "Epoch 4/28\n",
            "262/262 [==============================] - 160s 610ms/step - loss: 1.4170 - accuracy: 0.5115\n",
            "Epoch 5/28\n",
            "262/262 [==============================] - 160s 609ms/step - loss: 1.3239 - accuracy: 0.5421\n",
            "Epoch 6/28\n",
            "262/262 [==============================] - 160s 611ms/step - loss: 1.3280 - accuracy: 0.5446\n",
            "Epoch 7/28\n",
            "262/262 [==============================] - 160s 609ms/step - loss: 1.2971 - accuracy: 0.5528\n",
            "Epoch 8/28\n",
            "262/262 [==============================] - 159s 608ms/step - loss: 1.2099 - accuracy: 0.5857\n",
            "Epoch 9/28\n",
            "262/262 [==============================] - 159s 606ms/step - loss: 1.1950 - accuracy: 0.5932\n",
            "Epoch 10/28\n",
            "262/262 [==============================] - 159s 607ms/step - loss: 1.1398 - accuracy: 0.6118\n",
            "Epoch 11/28\n",
            "262/262 [==============================] - 159s 606ms/step - loss: 1.0890 - accuracy: 0.6285\n",
            "Epoch 12/28\n",
            "262/262 [==============================] - 160s 609ms/step - loss: 1.0886 - accuracy: 0.6304\n",
            "Epoch 13/28\n",
            "262/262 [==============================] - 159s 606ms/step - loss: 1.0274 - accuracy: 0.6471\n",
            "Epoch 14/28\n",
            "262/262 [==============================] - 160s 609ms/step - loss: 1.0477 - accuracy: 0.6420\n",
            "Epoch 15/28\n",
            "262/262 [==============================] - 159s 607ms/step - loss: 1.0475 - accuracy: 0.6424\n",
            "Epoch 16/28\n",
            "262/262 [==============================] - 160s 609ms/step - loss: 1.0462 - accuracy: 0.6397\n",
            "Epoch 17/28\n",
            "262/262 [==============================] - 159s 607ms/step - loss: 0.9909 - accuracy: 0.6596\n",
            "Epoch 18/28\n",
            "262/262 [==============================] - 160s 609ms/step - loss: 0.9923 - accuracy: 0.6607\n",
            "Epoch 19/28\n",
            "262/262 [==============================] - 160s 608ms/step - loss: 0.9423 - accuracy: 0.6801\n",
            "Epoch 20/28\n",
            "262/262 [==============================] - 159s 608ms/step - loss: 0.9633 - accuracy: 0.6612\n",
            "Epoch 21/28\n",
            "262/262 [==============================] - 159s 608ms/step - loss: 0.9070 - accuracy: 0.6937\n",
            "Epoch 22/28\n",
            "262/262 [==============================] - 159s 607ms/step - loss: 0.9513 - accuracy: 0.6714\n",
            "Epoch 23/28\n",
            "262/262 [==============================] - 160s 610ms/step - loss: 0.9084 - accuracy: 0.6857\n",
            "Epoch 24/28\n",
            "262/262 [==============================] - 160s 610ms/step - loss: 0.8888 - accuracy: 0.6953\n",
            "Epoch 25/28\n",
            "262/262 [==============================] - 162s 617ms/step - loss: 0.8850 - accuracy: 0.6996\n",
            "Epoch 26/28\n",
            "262/262 [==============================] - 160s 611ms/step - loss: 0.9001 - accuracy: 0.6858\n",
            "Epoch 27/28\n",
            "262/262 [==============================] - 160s 609ms/step - loss: 0.9356 - accuracy: 0.6763\n",
            "Epoch 28/28\n",
            "262/262 [==============================] - 159s 608ms/step - loss: 0.8767 - accuracy: 0.6977\n"
          ]
        }
      ],
      "source": [
        "# compile the model\n",
        "\n",
        "model.compile(optimizer=\"adam\", loss=\"categorical_crossentropy\", metrics =[\"accuracy\"])\n",
        "\n",
        "result = model.fit_generator(train_data, epochs = 28, steps_per_epoch=len(train_data))"
      ]
    },
    {
      "cell_type": "code",
      "execution_count": null,
      "metadata": {
        "colab": {
          "base_uri": "https://localhost:8080/",
          "height": 281
        },
        "id": "KPEbBHaivBKR",
        "outputId": "72875b18-ce11-4608-a65f-db29847f6ca1"
      },
      "outputs": [
        {
          "data": {
            "image/png": "[encoded data removed]",
            "text/plain": [
              "<Figure size 432x288 with 1 Axes>"
            ]
          },
          "metadata": {
            "needs_background": "light",
            "tags": []
          },
          "output_type": "display_data"
        }
      ],
      "source": [
        "plt.title(\"Accuracy\")\n",
        "plt.plot(result.history[\"accuracy\"])\n",
        "plt.show()"
      ]
    },
    {
      "cell_type": "code",
      "execution_count": null,
      "metadata": {
        "colab": {
          "base_uri": "https://localhost:8080/",
          "height": 281
        },
        "id": "n8nWUraqwUZ4",
        "outputId": "07ac87c5-2fda-4a6a-c554-c8bbe64e2fc2"
      },
      "outputs": [
        {
          "data": {
            "image/png": "[encoded data removed]",
            "text/plain": [
              "<Figure size 432x288 with 1 Axes>"
            ]
          },
          "metadata": {
            "needs_background": "light",
            "tags": []
          },
          "output_type": "display_data"
        }
      ],
      "source": [
        "plt.title(\"Loss\")\n",
        "plt.plot(result.history[\"loss\"])\n",
        "plt.show()"
      ]
    },
    {
      "cell_type": "code",
      "execution_count": null,
      "metadata": {
        "id": "C6bfVNY5u7bB"
      },
      "outputs": [],
      "source": [
        "model.save(\"/content/drive/MyDrive/Colab Notebooks/Image_classification/classification.h5\")"
      ]
    }
  ],
  "metadata": {
    "accelerator": "GPU",
    "colab": {
      "provenance": [],
      "include_colab_link": true
    },
    "kernelspec": {
      "display_name": "Python 3",
      "language": "python",
      "name": "python3"
    },
    "language_info": {
      "codemirror_mode": {
        "name": "ipython",
        "version": 3
      },
      "file_extension": ".py",
      "mimetype": "text/x-python",
      "name": "python",
      "nbconvert_exporter": "python",
      "pygments_lexer": "ipython3",
      "version": "3.8.5"
    }
  },
  "nbformat": 4,
  "nbformat_minor": 0
}